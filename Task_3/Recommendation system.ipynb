{
 "cells": [
  {
   "cell_type": "code",
   "execution_count": 1,
   "id": "e9a1b87c-7077-4e0f-991f-fac1715ea2ee",
   "metadata": {},
   "outputs": [
    {
     "name": "stdout",
     "output_type": "stream",
     "text": [
      "Recommended books for User 0\n",
      "Book 4 with predicted rating 0.0\n",
      "Book 3 with predicted rating 4.493827137747295\n",
      "Book 2 with predicted rating 4.50617281669715\n"
     ]
    }
   ],
   "source": [
    "\n",
    "import numpy as np\n",
    "# Sample user-item ratings matrix (rows: users, columns: books)\n",
    "# Each row represents a user's ratings for different books\n",
    "ratings = np.array([\n",
    "    [5, 4, 0, 0, 0],\n",
    "    [0, 0, 5, 4, 0],\n",
    "    [0, 0, 0, 0, 5],\n",
    "    [4, 5, 0, 0, 0],\n",
    "    [0, 0, 4, 5, 0]\n",
    "])\n",
    "# Calculate the similarity matrix using cosine similarity\n",
    "def cosine_similarity(matrix):\n",
    "    norm = np.linalg.norm(matrix, axis=1, keepdims=True)\n",
    "    normalized_matrix = matrix / (norm + 1e-8)\n",
    "    similarity_matrix = np.dot(normalized_matrix, normalized_matrix.T)\n",
    "    return similarity_matrix\n",
    "similarity_matrix = cosine_similarity(ratings)\n",
    "# Function to recommend books to a user\n",
    "def recommend_books(user_index, ratings_matrix, similarity_matrix, num_recommendations=3):\n",
    "    user_ratings = ratings_matrix[user_index]\n",
    "    weighted_sum = np.dot(similarity_matrix[user_index], ratings_matrix)\n",
    "    normalized_weighted_sum = weighted_sum / (np.sum(similarity_matrix[user_index]) + 1e-8)\n",
    "    \n",
    "    # Filter out books the user has already rated\n",
    "    unrated_books = np.where(user_ratings == 0)[0]\n",
    "    \n",
    "    # Sort unrated books based on their predicted ratings\n",
    "    recommended_book_indices = np.argsort(normalized_weighted_sum[unrated_books])[::-1][:num_recommendations]\n",
    "    \n",
    "    return unrated_books[recommended_book_indices], normalized_weighted_sum[recommended_book_indices]\n",
    "# Recommend books for user 0\n",
    "user_index = 0\n",
    "recommended_books, predicted_ratings = recommend_books(user_index, ratings, similarity_matrix)\n",
    "print(\"Recommended books for User\", user_index)\n",
    "for i, book_index in enumerate(recommended_books):\n",
    "    print(\"Book\", book_index, \"with predicted rating\", predicted_ratings[i])"
   ]
  },
  {
   "cell_type": "code",
   "execution_count": 2,
   "id": "1a63c480-36a5-4f23-8744-e01a9b7cb0fd",
   "metadata": {},
   "outputs": [
    {
     "name": "stdout",
     "output_type": "stream",
     "text": [
      "Recommended movies for User 0\n",
      "Movie 2 with predicted rating 0.0\n",
      "Movie 1 with predicted rating 5.500049962569842\n",
      "Movie 0 with predicted rating 4.500049967570342\n"
     ]
    }
   ],
   "source": [
    "#building a movie recommendation system\n",
    "import numpy as np\n",
    "# Sample user-item ratings matrix (rows: users, columns: movies)\n",
    "# Each row represents a user's ratings for different movies\n",
    "ratings = np.array([\n",
    "    [5, 6, 0, 0, 0],\n",
    "    [0, 0, 5, 3, 0],\n",
    "    [0, 0, 0, 0, 5],\n",
    "    [4, 5, 0, 0, 0],\n",
    "    [0, 0, 4, 5, 0]\n",
    "])\n",
    "# Calculate the similarity matrix using cosine similarity\n",
    "def cosine_similarity(matrix):\n",
    "    norm = np.linalg.norm(matrix, axis=1, keepdims=True)\n",
    "    normalized_matrix = matrix / (norm + 1e-8)\n",
    "    similarity_matrix = np.dot(normalized_matrix, normalized_matrix.T)\n",
    "    return similarity_matrix\n",
    "similarity_matrix = cosine_similarity(ratings)\n",
    "# Function to recommend movies to a user\n",
    "def recommend_movies(user_index, ratings_matrix, similarity_matrix, num_recommendations=3):\n",
    "    user_ratings = ratings_matrix[user_index]\n",
    "    weighted_sum = np.dot(similarity_matrix[user_index], ratings_matrix)\n",
    "    normalized_weighted_sum = weighted_sum / (np.sum(similarity_matrix[user_index]) + 1e-8)\n",
    "    \n",
    "    # Filter out movies the user has already rated\n",
    "    unrated_movies = np.where(user_ratings == 0)[0]\n",
    "    \n",
    "    # Sort unrated movies based on their predicted ratings\n",
    "    recommended_movie_indices = np.argsort(normalized_weighted_sum[unrated_movies])[::-1][:num_recommendations]\n",
    "    recommended_ratings = normalized_weighted_sum[recommended_movie_indices]\n",
    "    \n",
    "    return recommended_movie_indices, recommended_ratings\n",
    "# Recommend movies for user 0\n",
    "user_index = 0\n",
    "recommended_movies, predicted_ratings = recommend_movies(user_index, ratings, similarity_matrix)\n",
    "print(\"Recommended movies for User\", user_index)\n",
    "for i, movie_index in enumerate(recommended_movies):\n",
    "    print(\"Movie\", movie_index, \"with predicted rating\", predicted_ratings[i])"
   ]
  },
  {
   "cell_type": "code",
   "execution_count": 3,
   "id": "474df8d9-52cd-4d8a-bd23-2bc8e3a2012d",
   "metadata": {},
   "outputs": [
    {
     "name": "stdin",
     "output_type": "stream",
     "text": [
      "Enter the number of product recommendations:  1\n"
     ]
    },
    {
     "name": "stdout",
     "output_type": "stream",
     "text": [
      "Recommended products for User 0\n",
      "Product 2 with predicted rating 0.0\n"
     ]
    }
   ],
   "source": [
    "#building a products recommendation system\n",
    "import numpy as np\n",
    "# Sample user-item ratings matrix (rows: users, columns: products)\n",
    "# Each row represents a user's ratings for different products\n",
    "ratings = np.array([\n",
    "    [5, 4, 0, 0, 0],\n",
    "    [0, 0, 5, 4, 0],\n",
    "    [0, 0, 0, 0, 5],\n",
    "    [4, 5, 0, 0, 0],\n",
    "    [0, 0, 5, 6, 0]\n",
    "])\n",
    "# Calculate the similarity matrix using cosine similarity\n",
    "def cosine_similarity(matrix):\n",
    "    norm = np.linalg.norm(matrix, axis=1, keepdims=True)\n",
    "    normalized_matrix = matrix / (norm + 1e-8)\n",
    "    similarity_matrix = np.dot(normalized_matrix, normalized_matrix.T)\n",
    "    return similarity_matrix\n",
    "similarity_matrix = cosine_similarity(ratings)\n",
    "# Function to recommend products to a user\n",
    "def recommend_products(user_index, ratings_matrix, similarity_matrix, num_recommendations=3):\n",
    "    user_ratings = ratings_matrix[user_index]\n",
    "    weighted_sum = np.dot(similarity_matrix[user_index], ratings_matrix)\n",
    "    normalized_weighted_sum = weighted_sum / (np.sum(similarity_matrix[user_index]) + 1e-8)\n",
    "    \n",
    "    # Filter out products the user has already rated\n",
    "    unrated_products = np.where(user_ratings == 0)[0]\n",
    "    \n",
    "    # Sort unrated products based on their predicted ratings\n",
    "    recommended_product_indices = np.argsort(normalized_weighted_sum[unrated_products])[::-1][:num_recommendations]\n",
    "    recommended_ratings = normalized_weighted_sum[recommended_product_indices]\n",
    "    \n",
    "    return recommended_product_indices, recommended_ratings\n",
    "# Input: number of recommendations\n",
    "num_recommendations = int(input(\"Enter the number of product recommendations: \"))\n",
    "# Recommend products for user 0\n",
    "user_index = 0\n",
    "recommended_products, predicted_ratings = recommend_products(user_index, ratings, similarity_matrix, num_recommendations)\n",
    "print(\"Recommended products for User\", user_index)\n",
    "for i, product_index in enumerate(recommended_products):\n",
    "    print(\"Product\", product_index, \"with predicted rating\", predicted_ratings[i])"
   ]
  },
  {
   "cell_type": "code",
   "execution_count": null,
   "id": "234e3ac9-b7e1-46a4-940d-75ee60bb4da9",
   "metadata": {},
   "outputs": [],
   "source": []
  }
 ],
 "metadata": {
  "kernelspec": {
   "display_name": "Python 3 (ipykernel)",
   "language": "python",
   "name": "python3"
  },
  "language_info": {
   "codemirror_mode": {
    "name": "ipython",
    "version": 3
   },
   "file_extension": ".py",
   "mimetype": "text/x-python",
   "name": "python",
   "nbconvert_exporter": "python",
   "pygments_lexer": "ipython3",
   "version": "3.10.5"
  }
 },
 "nbformat": 4,
 "nbformat_minor": 5
}
