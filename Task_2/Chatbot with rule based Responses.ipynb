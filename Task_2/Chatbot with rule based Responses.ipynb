{
 "cells": [
  {
   "cell_type": "code",
   "execution_count": 1,
   "id": "f9744fab-2923-4383-bb40-feef9387ff3f",
   "metadata": {},
   "outputs": [],
   "source": [
    "def simple_chatbot(user_input):\n",
    "    user_input = user_input.lower() #Convert user input to lowercase for easier pattern matching\n",
    "\n",
    "    if \"hello chatbot\" in user_input:\n",
    "        return \"Hi there! How can I help you today gayatri?\"\n",
    "\n",
    "    elif \"how are you\" in user_input:\n",
    "        return \"I'm just a chatbot, but I'm here and ready to assist you gayatri!\"\n",
    "\n",
    "    elif \"goodbye\" in user_input:\n",
    "        return \"Goodbye! Have a great day gayatri!\"\n",
    "\n",
    "    elif \"help\" in user_input:\n",
    "        return \"I'm here to assist you. What do you need help with?\"\n",
    "\n",
    "    else:\n",
    "        return \"my bad gayatri, I don't quite understand. Gayatri can you please rephrase or ask something else?\"\n"
   ]
  },
  {
   "cell_type": "code",
   "execution_count": 2,
   "id": "014e5eac-447b-422c-8146-da9f81733704",
   "metadata": {},
   "outputs": [
    {
     "name": "stdout",
     "output_type": "stream",
     "text": [
      "Simple Chatbot: Hello Gayatri! Type 'goodbye' to exit.\n"
     ]
    },
    {
     "name": "stdin",
     "output_type": "stream",
     "text": [
      "You:  help\n"
     ]
    },
    {
     "name": "stdout",
     "output_type": "stream",
     "text": [
      "Simple Chatbot: I'm here to assist you. What do you need help with?\n"
     ]
    },
    {
     "name": "stdin",
     "output_type": "stream",
     "text": [
      "You:  goodbye\n"
     ]
    },
    {
     "name": "stdout",
     "output_type": "stream",
     "text": [
      "Simple Chatbot: Goodbye!\n"
     ]
    }
   ],
   "source": [
    "# Main loop\n",
    "print(\"Simple Chatbot: Hello Gayatri! Type 'goodbye' to exit.\")\n",
    "while True:\n",
    "\n",
    "    user_input = input(\"You: \")\n",
    "    if user_input.lower() == \"goodbye\":\n",
    "        print(\"Simple Chatbot: Goodbye!\")\n",
    "\n",
    "        break\n",
    "    response = simple_chatbot(user_input)\n",
    "    print(\"Simple Chatbot:\", response)"
   ]
  },
  {
   "cell_type": "code",
   "execution_count": null,
   "id": "e9a72a1d-0ed3-4cb8-8506-3ed62e907d5f",
   "metadata": {},
   "outputs": [],
   "source": []
  }
 ],
 "metadata": {
  "kernelspec": {
   "display_name": "Python 3 (ipykernel)",
   "language": "python",
   "name": "python3"
  },
  "language_info": {
   "codemirror_mode": {
    "name": "ipython",
    "version": 3
   },
   "file_extension": ".py",
   "mimetype": "text/x-python",
   "name": "python",
   "nbconvert_exporter": "python",
   "pygments_lexer": "ipython3",
   "version": "3.10.5"
  }
 },
 "nbformat": 4,
 "nbformat_minor": 5
}
