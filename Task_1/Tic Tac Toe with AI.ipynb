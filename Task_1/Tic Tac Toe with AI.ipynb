{
 "cells": [
  {
   "cell_type": "code",
   "execution_count": 1,
   "id": "75a72880-a7e5-40cb-8aab-ad0921ec7e18",
   "metadata": {},
   "outputs": [],
   "source": [
    "import random"
   ]
  },
  {
   "cell_type": "code",
   "execution_count": 2,
   "id": "f1a34387-94cf-4a03-919b-b8cc4ab4001c",
   "metadata": {},
   "outputs": [],
   "source": [
    "# The Tic-Tac-Toe board\n",
    "board = [' ' for _ in range(9)]"
   ]
  },
  {
   "cell_type": "code",
   "execution_count": 3,
   "id": "d2bd3900-68a0-4f83-aa3f-c814f0328e4c",
   "metadata": {},
   "outputs": [],
   "source": [
    "# Function to print the board\n",
    "def print_board():\n",
    "    for i in range(0, 9, 3):\n",
    "        print(board[i], '|', board[i+1], '|', board[i+2])\n",
    "        if i < 6:\n",
    "            print('-' * 9)\n"
   ]
  },
  {
   "cell_type": "code",
   "execution_count": 4,
   "id": "f2feafdf-9860-471b-9fbe-5e26b0f4b587",
   "metadata": {},
   "outputs": [],
   "source": [
    "# Function to check if the board is full\n",
    "def is_board_full(board):\n",
    "    return all(cell != ' ' for cell in board)"
   ]
  },
  {
   "cell_type": "code",
   "execution_count": 5,
   "id": "825cb2f8-e50d-4916-80f8-fbed16bed53e",
   "metadata": {},
   "outputs": [],
   "source": [
    "# Function to check if a player has won\n",
    "def check_win(board, player):\n",
    "    win_patterns = [(0, 1, 2), (3, 4, 5), (6, 7, 8), (0, 3, 6), (1, 4, 7), (2, 5, 8), (0, 4, 8), (2, 4, 6)]\n",
    "    for pattern in win_patterns:\n",
    "        if all(board[i] == player for i in pattern):\n",
    "            return True\n",
    "    return False"
   ]
  },
  {
   "cell_type": "code",
   "execution_count": 6,
   "id": "f90602e9-65be-4ae8-b4c2-8310fc07a111",
   "metadata": {},
   "outputs": [],
   "source": [
    "# Minimax algorithm with Alpha-Beta Pruning\n",
    "def minimax(board, depth, maximizing_player, alpha, beta):\n",
    "    if check_win(board, 'X'):\n",
    "        return 1\n",
    "    if check_win(board, 'O'):\n",
    "        return -1\n",
    "    if is_board_full(board):\n",
    "        return 0\n",
    "\n",
    "    if maximizing_player:\n",
    "        max_eval = float('-inf')\n",
    "        for i in range(9):\n",
    "            if board[i] == ' ':\n",
    "                board[i] = 'X'\n",
    "                eval = minimax(board, depth + 1, False, alpha, beta)\n",
    "                board[i] = ' '\n",
    "                max_eval = max(max_eval, eval)\n",
    "                alpha = max(alpha, eval)\n",
    "                if beta <= alpha:\n",
    "                    break\n",
    "        return max_eval\n",
    "    else:\n",
    "        min_eval = float('inf')\n",
    "        for i in range(9):\n",
    "            if board[i] == ' ':\n",
    "                board[i] = 'O'\n",
    "                eval = minimax(board, depth + 1, True, alpha, beta)\n",
    "                board[i] = ' '\n",
    "                min_eval = min(min_eval, eval)\n",
    "                beta = min(beta, eval)\n",
    "                if beta <= alpha:\n",
    "                    break\n",
    "        return min_eval\n"
   ]
  },
  {
   "cell_type": "code",
   "execution_count": 7,
   "id": "52b49c03-daa1-4bb7-be07-ff92fe65ddb7",
   "metadata": {},
   "outputs": [],
   "source": [
    "# Function to find the best move for AI\n",
    "def find_best_move(board):\n",
    "    best_move = -1\n",
    "    best_eval = float('-inf')\n",
    "    for i in range(9):\n",
    "        if board[i] == ' ':\n",
    "            board[i] = 'X'\n",
    "            eval = minimax(board, 0, False, float('-inf'), float('inf'))\n",
    "            board[i] = ' '\n",
    "            if eval > best_eval:\n",
    "                best_eval = eval\n",
    "                best_move = i\n",
    "    return best_move\n"
   ]
  },
  {
   "cell_type": "code",
   "execution_count": 8,
   "id": "61db203b-ffee-4bc5-8b07-0eea2d8a55d8",
   "metadata": {},
   "outputs": [
    {
     "name": "stdout",
     "output_type": "stream",
     "text": [
      "Welcome to Tic-Tac-Toe!\n",
      "  |   |  \n",
      "---------\n",
      "  |   |  \n",
      "---------\n",
      "  |   |  \n"
     ]
    },
    {
     "name": "stdin",
     "output_type": "stream",
     "text": [
      "Enter your move (0-8):  3\n"
     ]
    },
    {
     "name": "stdout",
     "output_type": "stream",
     "text": [
      "  |   |  \n",
      "---------\n",
      "O |   |  \n",
      "---------\n",
      "  |   |  \n",
      "AI's move:\n",
      "X |   |  \n",
      "---------\n",
      "O |   |  \n",
      "---------\n",
      "  |   |  \n"
     ]
    },
    {
     "name": "stdin",
     "output_type": "stream",
     "text": [
      "Enter your move (0-8):  2\n"
     ]
    },
    {
     "name": "stdout",
     "output_type": "stream",
     "text": [
      "X |   | O\n",
      "---------\n",
      "O |   |  \n",
      "---------\n",
      "  |   |  \n",
      "AI's move:\n",
      "X |   | O\n",
      "---------\n",
      "O | X |  \n",
      "---------\n",
      "  |   |  \n"
     ]
    },
    {
     "name": "stdin",
     "output_type": "stream",
     "text": [
      "Enter your move (0-8):  5\n"
     ]
    },
    {
     "name": "stdout",
     "output_type": "stream",
     "text": [
      "X |   | O\n",
      "---------\n",
      "O | X | O\n",
      "---------\n",
      "  |   |  \n",
      "AI's move:\n",
      "X |   | O\n",
      "---------\n",
      "O | X | O\n",
      "---------\n",
      "  |   | X\n",
      "AI wins!\n"
     ]
    }
   ],
   "source": [
    "# Main game loop\n",
    "def play_game():\n",
    "    print(\"Welcome to Tic-Tac-Toe!\")\n",
    "    print_board()\n",
    "    while True:\n",
    "        if not is_board_full(board) and not check_win(board, 'X') and not check_win(board, 'O'):\n",
    "            move = -1\n",
    "            while move < 0 or move >= 9 or board[move] != ' ':\n",
    "                move = int(input(\"Enter your move (0-8): \"))\n",
    "            board[move] = 'O'\n",
    "            print_board()\n",
    "\n",
    "        if check_win(board, 'O'):\n",
    "            print(\"You win!\")\n",
    "            break\n",
    "        elif is_board_full(board):\n",
    "            print(\"It's a draw!\")\n",
    "            break\n",
    "\n",
    "        ai_move = find_best_move(board)\n",
    "        board[ai_move] = 'X'\n",
    "        print(\"AI's move:\")\n",
    "        print_board()\n",
    "\n",
    "        if check_win(board, 'X'):\n",
    "            print(\"AI wins!\")\n",
    "            break\n",
    "            # Start the game\n",
    "play_game()\n"
   ]
  },
  {
   "cell_type": "code",
   "execution_count": null,
   "id": "20db8541-1e27-4e94-95b9-1b45688d145e",
   "metadata": {},
   "outputs": [],
   "source": []
  },
  {
   "cell_type": "code",
   "execution_count": null,
   "id": "f9cf5c27-e88a-418d-9210-4e1b2b159dbb",
   "metadata": {},
   "outputs": [],
   "source": []
  },
  {
   "cell_type": "code",
   "execution_count": null,
   "id": "3168f849-d0ed-4937-99ff-a0638cb33d3b",
   "metadata": {},
   "outputs": [],
   "source": []
  }
 ],
 "metadata": {
  "kernelspec": {
   "display_name": "Python 3 (ipykernel)",
   "language": "python",
   "name": "python3"
  },
  "language_info": {
   "codemirror_mode": {
    "name": "ipython",
    "version": 3
   },
   "file_extension": ".py",
   "mimetype": "text/x-python",
   "name": "python",
   "nbconvert_exporter": "python",
   "pygments_lexer": "ipython3",
   "version": "3.10.5"
  }
 },
 "nbformat": 4,
 "nbformat_minor": 5
}
